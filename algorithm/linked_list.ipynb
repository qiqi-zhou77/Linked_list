{
 "cells": [
  {
   "cell_type": "markdown",
   "metadata": {},
   "source": [
    "Using object-oriented programming, define a class Node that will hold the data as well as a reference to the next element. The class Node also needs a method insert that inserts a new element right after itself and before the previously next element. "
   ]
  },
  {
   "cell_type": "markdown",
   "metadata": {},
   "source": [
    "This insert method is always doing the same amount of operations and hence should have a constant time complexity. Your second task is verifying this by creating differently sized lists and adding a new element somewhere (note that finding the element is not part of calculating the time complexity; hence you could always enter an element after the first position)"
   ]
  },
  {
   "cell_type": "markdown",
   "metadata": {},
   "source": [
    "# Linked list"
   ]
  },
  {
   "cell_type": "code",
   "execution_count": 21,
   "metadata": {},
   "outputs": [
    {
     "name": "stdout",
     "output_type": "stream",
     "text": [
      "6\n",
      "11\n",
      "7\n",
      "5\n",
      "9\n",
      "1\n",
      "8\n"
     ]
    }
   ],
   "source": [
    "class Node:\n",
    "    def __init__(self,data):\n",
    "        self.data = data\n",
    "        self.next = None\n",
    "        \n",
    "        \n",
    "class LinkedList:\n",
    "    \n",
    "    def __init__(self):\n",
    "        self.head = None # Always point to the first node of the linked list\n",
    "        self.tail = None  \n",
    "        # Always point to the last node of the linked list\n",
    "        # We don't need to traverse the whole linked list when appending\n",
    "        \n",
    "    # Add a node at head\n",
    "    # Creat a new node, which points to the original head(self.head)\n",
    "    # Change the new linked_list head to the new node\n",
    "    def insert_head(self,new_data):\n",
    "        new_node = Node(new_data)\n",
    "        if self.head is None:\n",
    "            self.head = new_node\n",
    "            self.tail = new_node\n",
    "        else:\n",
    "            new_node.next = self.head\n",
    "            self.head = new_node\n",
    "           \n",
    "            \n",
    "    # Append a node in the end without tail pointer\n",
    "    # 1 Creat a new subject from Class Node\n",
    "    # 2 If the linked_list is empty, the new node is the head\n",
    "    # 3 Otherwise \n",
    "    # -- Linked list has no indexes, traverse to the last node\n",
    "    # -- The last node of the original linked list points to the new node\n",
    "    def insert_last(self,new_data):\n",
    "        new_node = Node(new_data)\n",
    "        if self.head is None:\n",
    "            self.head = new_node\n",
    "            return\n",
    "        last = self.head\n",
    "        while (last.next):\n",
    "            last = last.next\n",
    "        last.next = new_node\n",
    "        \n",
    "    # Append a node in the end with tail pointer\n",
    "    def append(self,new_data):\n",
    "        new_node = Node(new_data)\n",
    "        if self.head is None:\n",
    "            self.head = new_node\n",
    "            self.tail = new_node\n",
    "        else:\n",
    "            self.tail.next = new_node\n",
    "            self.tail = new_node\n",
    "            \n",
    "  \n",
    "    # Search for an element(key) in the linked list\n",
    "    # Set the current node = linked_list's head.data\n",
    "    # If the current.node.data = key, Then return True\n",
    "    # Otherwise, current node = current node.next\n",
    "    def search_element(self, key):\n",
    "        current_node = self.head\n",
    "        while (current_node.next):\n",
    "            if current_node.data == key:\n",
    "                return current_node\n",
    "            else:\n",
    "                current_node = current_node.next\n",
    "        return None\n",
    "    \n",
    "    \n",
    "    # Search for an element according to its position \n",
    "    # Count position_index from 1 and traverse to the position_index\n",
    "    def search_postion(self,index):\n",
    "        if index == 1:\n",
    "            return self.head.data\n",
    "        else:\n",
    "            position_index = 1\n",
    "            current_node = self.head\n",
    "            while position_index < index:\n",
    "                if current_node.next == None:\n",
    "                    return \"This is the last one in the linked list\"\n",
    "                else:\n",
    "                    current_node = current_node.next\n",
    "                    position_index +=1\n",
    "        \n",
    "                return current_node.data\n",
    "    \n",
    "    \n",
    "    # Insert after a certain node\n",
    "    # Search for the node(prev_node) after which to insert\n",
    "    # Set new node pointer pointing to the node which after the prev_node\n",
    "    # Reset the prev_node pointer pointing to the new node inserted\n",
    "    def insertafter(self,prev_node_value,new_data):\n",
    "        prev_node = self.search_element(prev_node_value)\n",
    "        if prev_node is None:\n",
    "            print(\"The given previous node is not in the linked list\")\n",
    "            return\n",
    "        new_node = Node(new_data)\n",
    "        new_node.next = prev_node.next\n",
    "        prev_node.next = new_node\n",
    "        \n",
    "        \n",
    "        \n",
    "    def printList(self):\n",
    "        current = self.head\n",
    "        while(current):\n",
    "            print(current.data)\n",
    "            current = current.next\n",
    "            \n",
    "            \n",
    "my_list = LinkedList()\n",
    "my_list.insert_head(1)\n",
    "my_list.insert_head(9)\n",
    "my_list.insert_head(5)\n",
    "my_list.insert_head(11)\n",
    "my_list.insert_head(6)\n",
    "my_list.insertafter(11,7)\n",
    "my_list.append(8)\n",
    "my_list.printList()"
   ]
  },
  {
   "cell_type": "markdown",
   "metadata": {},
   "source": [
    "# Using tail pointer to append different size of elements"
   ]
  },
  {
   "cell_type": "code",
   "execution_count": 4,
   "metadata": {},
   "outputs": [],
   "source": [
    "# Creating a list of random numbers as node_data \n",
    "# The numer of the elements in the list: 2000,4000,8000,16000,32000,64000\n",
    "# Append using tail pointer \n",
    "# Calculate the time of inserting different volumn of elements and draw pics"
   ]
  },
  {
   "cell_type": "code",
   "execution_count": 22,
   "metadata": {},
   "outputs": [
    {
     "data": {
      "text/plain": [
       "[7.152557373046875e-07,\n",
       " 9.5367431640625e-07,\n",
       " 9.5367431640625e-07,\n",
       " 1.1920928955078125e-06,\n",
       " 9.5367431640625e-07,\n",
       " 1.1920928955078125e-06]"
      ]
     },
     "execution_count": 22,
     "metadata": {},
     "output_type": "execute_result"
    }
   ],
   "source": [
    "import random\n",
    "import time\n",
    "import matplotlib.pyplot as plt\n",
    "import seaborn as sns\n",
    "\n",
    "def insertion_time():\n",
    "    time_list = []\n",
    "    volumn = [2000,4000,8000,16000,32000,64000]\n",
    "    for v in volumn:\n",
    "        \n",
    "        random_list= random.sample(range(v),v)\n",
    "        for num in random_list:\n",
    "            start = time.time()\n",
    "            my_list.append(num)\n",
    "        end = time.time()\n",
    "        duration = end-start\n",
    "        time_list.append(duration)\n",
    "        \n",
    "    return time_list\n",
    "\n",
    "insertion_time()"
   ]
  },
  {
   "cell_type": "code",
   "execution_count": 23,
   "metadata": {
    "scrolled": true
   },
   "outputs": [
    {
     "data": {
      "text/plain": [
       "(1.6763806343078609e-12, 1.0)"
      ]
     },
     "execution_count": 23,
     "metadata": {},
     "output_type": "execute_result"
    },
    {
     "data": {
      "image/png": "[encoded data removed]",
      "text/plain": [
       "<Figure size 432x288 with 1 Axes>"
      ]
     },
     "metadata": {
      "needs_background": "light"
     },
     "output_type": "display_data"
    }
   ],
   "source": [
    "volumn = [2000,4000,8000,16000,32000,64000]\n",
    "time_list =[7.152557373046875e-07,\n",
    " 9.5367431640625e-07,\n",
    " 9.5367431640625e-07,\n",
    " 1.1920928955078125e-06,\n",
    " 9.5367431640625e-07,\n",
    " 1.1920928955078125e-06]\n",
    "time_per_insertion = [x/y for x, y in zip(time_list, volumn)]\n",
    "sns.lineplot(x = volumn, y=time_per_insertion)\n",
    "plt.ylim(top=1)"
   ]
  },
  {
   "cell_type": "code",
   "execution_count": null,
   "metadata": {},
   "outputs": [],
   "source": []
  }
 ],
 "metadata": {
  "kernelspec": {
   "display_name": "Python 3",
   "language": "python",
   "name": "python3"
  },
  "language_info": {
   "codemirror_mode": {
    "name": "ipython",
    "version": 3
   },
   "file_extension": ".py",
   "mimetype": "text/x-python",
   "name": "python",
   "nbconvert_exporter": "python",
   "pygments_lexer": "ipython3",
   "version": "3.8.3"
  },
  "toc": {
   "base_numbering": 1,
   "nav_menu": {},
   "number_sections": true,
   "sideBar": true,
   "skip_h1_title": false,
   "title_cell": "Table of Contents",
   "title_sidebar": "Contents",
   "toc_cell": false,
   "toc_position": {},
   "toc_section_display": true,
   "toc_window_display": false
  }
 },
 "nbformat": 4,
 "nbformat_minor": 4
}
